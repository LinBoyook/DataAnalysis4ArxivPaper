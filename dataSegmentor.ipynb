{
 "metadata": {
  "language_info": {
   "codemirror_mode": {
    "name": "ipython",
    "version": 3
   },
   "file_extension": ".py",
   "mimetype": "text/x-python",
   "name": "python",
   "nbconvert_exporter": "python",
   "pygments_lexer": "ipython3",
   "version": "3.6.8-final"
  },
  "orig_nbformat": 2,
  "kernelspec": {
   "name": "python3",
   "display_name": "Python 3.6.8 64-bit ('python36': conda)",
   "metadata": {
    "interpreter": {
     "hash": "2892d03a7e34baf83413a1e88f5b6c1245033e44dfa4c64c96a5256089bd518e"
    }
   }
  }
 },
 "nbformat": 4,
 "nbformat_minor": 2,
 "cells": [
  {
   "cell_type": "code",
   "execution_count": 1,
   "metadata": {},
   "outputs": [],
   "source": [
    "import os\n",
    "import json\n",
    "import ijson\n",
    "import pandas as pd"
   ]
  },
  {
   "cell_type": "code",
   "execution_count": null,
   "metadata": {},
   "outputs": [],
   "source": [
    "# 获取当前路径文件\n",
    "for root, dirt, files in os.walk('./dataset'):\n",
    "    for filename in files:\n",
    "        print(os.path.join(root, filename))"
   ]
  },
  {
   "cell_type": "code",
   "execution_count": 2,
   "metadata": {
    "tags": [
     "outputPrepend"
    ]
   },
   "outputs": [
    {
     "output_type": "stream",
     "name": "stdout",
     "text": [
      "current, that results from the\\ncoupling of electrons and holes on the normal side via the anomalous Green's\\nfunction on the superconducting side. Using simple BCS Nambu-Green's functions\\nthe well known Blonder-Tinkam-Klapwijk theory can be recovered. Incorporating\\nthe energy-dependent quasi-particle lifetime of the heavy fermions strongly\\nreduces the Andreev-reflection signal.\\n\",\"versions\":[{\"version\":\"v1\",\"created\":\"Fri, 26 Jul 1996 21:05:38 GMT\"}],\"update_date\":\"2009-10-30\",\"authors_parsed\":[[\"Anders\",\"F. B.\",\"\"],[\"Gloos\",\"K.\",\"\"]]}\n",
      "\n",
      "{\"id\":\"supr-con/9608001\",\"submitter\":null,\"authors\":\"Jorge Berger and Jacob Rubinstein (Technion)\",\"title\":\"Topology and Phase Transitions in the Little-Parks Experiment\",\"comments\":\"Latex, 26 pages, 5 figs upon request\",\"journal-ref\":\"SIAM J Appl Math {\\\\bf 58} (1998) 103--121\",\"doi\":null,\"report-no\":null,\"categories\":\"supr-con cond-mat.supr-con quant-ph\",\"license\":null,\"abstract\":\"  This is an analytic study of the problem of transitions between normal and\\nsuperconducting phases for a sample which encloses a magnetic flux. A\\npreliminary study of this problem, based on numerical minimization of the free\\nenergy for a particular form of the thickness of the sample, was published in\\nPhys. Rev. Lett. {\\\\bf 75}, 320 (1995). For a sample of uniform thickness the\\norder parameter is uniform, but even infinitesimal deviations from uniform\\nthickness give rise to a singly connected state in which the order parameter\\nvanishes at a suitable layer, so that the superconducting part does not enclose\\nthe magnetic field. The stability domain of this singly connected state is a\\nline segment in the magnetic field-temperature plane, delimited by two critical\\npoints. The phase diagram contains several bifurcation lines, which are\\nsystematically analyzed.\\n\",\"versions\":[{\"version\":\"v1\",\"created\":\"Thu, 8 Aug 1996 04:57:12 GMT\"}],\"update_date\":\"2008-02-03\",\"authors_parsed\":[[\"Berger\",\"Jorge\",\"\",\"Technion\"],[\"Rubinstein\",\"Jacob\",\"\",\"Technion\"]]}\n",
      "\n",
      "{\"id\":\"supr-con/9608002\",\"submitter\":\"Sean M. Quinlan\",\"authors\":\"P. J. Hirschfeld, S. M. Quinlan, and D. J. Scalapino\",\"title\":\"c-Axis Infrared Conductivity of a d_{x^2-y^2}-Wave Superconductor with\\n  Impurity and Spin-Fluctuation Scattering\",\"comments\":\"18 pages, 8 Postscript figures, REVTeX 3.0 with psfig macros\",\"journal-ref\":null,\"doi\":\"10.1103/PhysRevB.55.12742\",\"report-no\":null,\"categories\":\"supr-con cond-mat.supr-con\",\"license\":null,\"abstract\":\"  Results of a calculation of the c-axis infrared conductivity sigma_c for a\\nd_{x^2-y^2}-wave superconductor which include both elastic impurity and\\ninelastic spin-fluctuation scattering are presented and compared with the\\nab-plane conductivity sigma_{ab} in the same model. In this model,the\\ninterlayer c-axis coupling is taken to be weak and diffusive. While in clean\\nsystems, inelastic scattering leads to a peak at omega = 4*Delta_0 in\\nsigma_{ab} for T < T_c, it has little effect on the corresponding sigma_c,\\nwhich exhibits structure only at omega = 2*Delta_0 and is directly related to\\nthe single-particle density of states N(omega). The c-axis penetration depth\\nlambda_c in the same model is predicted to vary as T^3 at low temperatures in\\nclean samples. We discuss recent optical experiments on the cuprates and\\ncompare with these predictions.\\n\",\"versions\":[{\"version\":\"v1\",\"created\":\"Fri, 9 Aug 1996 23:44:28 GMT\"}],\"update_date\":\"2009-10-30\",\"authors_parsed\":[[\"Hirschfeld\",\"P. J.\",\"\"],[\"Quinlan\",\"S. M.\",\"\"],[\"Scalapino\",\"D. J.\",\"\"]]}\n",
      "\n",
      "{\"id\":\"supr-con/9608003\",\"submitter\":\"Oleg Tchernyshyov\",\"authors\":\"A. S. Blaer (1), H. C. Ren (2), and O. Tchernyshyov (1) ((1) Columbia\\n  University, (2) Rockefeller University)\",\"title\":\"Extended bound states and resonances of two fermions on a periodic\\n  lattice\",\"comments\":\"21 pages, RevTeX, 4 Postscript figures, arithmetic errors corrected.\\n  An abbreviated version (no appendix) appeared in PRB on March 1, 1997\",\"journal-ref\":\"Phys. Rev. B 55, 6035 (1997)\",\"doi\":\"10.1103/PhysRevB.55.6035\",\"report-no\":\"CU-TP-771, RU-96-6B\",\"categories\":\"supr-con cond-mat.supr-con\",\"license\":null,\"abstract\":\"  The high-$T_c$ cuprates are possible candidates for d-wave superconductivity,\\nwith the Cooper pair wave function belonging to a non-trivial irreducible\\nrepresentation of the lattice point group. We argue that this d-wave symmetry\\nis related to a special form of the fermionic kinetic energy and does not\\nrequire any novel pairing mechanism. In this context, we present a detailed\\nstudy of the bound states and resonances formed by two lattice fermions\\ninteracting via a non-retarded potential that is attractive for nearest\\nneighbors but repulsive for other relative positions. In the case of strong\\nbinding, a pair formed by fermions on adjacent lattice sites can have a small\\neffective mass, thereby implying a high condensation temperature. For a weakly\\nbound state, a pair with non-trivial symmetry tends to be smaller in size than\\nan s-wave pair. These and other findings are discussed in connection with the\\nproperties of high-$T_c$ cuprate superconductors.\\n\",\"versions\":[{\"version\":\"v1\",\"created\":\"Mon, 12 Aug 1996 16:00:41 GMT\"},{\"version\":\"v2\",\"created\":\"Thu, 13 Mar 1997 13:59:10 GMT\"}],\"update_date\":\"2009-10-30\",\"authors_parsed\":[[\"Blaer\",\"A. S.\",\"\"],[\"Ren\",\"H. C.\",\"\"],[\"Tchernyshyov\",\"O.\",\"\"]]}\n",
      "\n",
      "{\"id\":\"supr-con/9608004\",\"submitter\":\"Georg Bruun\",\"authors\":\"G. M. Bruun, V. N. Nicopoulos, N. F. Johnson\",\"title\":\"Ginzburg-Landau-Gor'kov Theory of Magnetic oscillations in a type-II\\n  2-dimensional Superconductor\",\"comments\":\"39 pages, 8 figures. This is a replacement of supr-con/9608004.\\n  Several sections changed or added, including a section on the effect of spin\\n  and the effect of a conserved number of particles. To be published in Phys.\\n  Rev. B\",\"journal-ref\":\"PHYS REV B 56: (2) 809-825 JUL 1 1997\",\"doi\":\"10.1103/PhysRevB.56.809\",\"report-no\":null,\"categories\":\"supr-con cond-mat.supr-con\",\"license\":null,\"abstract\":\"  We investigate de Haas-van Alphen (dHvA) oscillations in the mixed state of a\\ntype-II two-dimensional superconductor within a self-consistent Gor'kov\\nperturbation scheme. Assuming that the order parameter forms a vortex lattice\\nwe can calculate the expansion coefficients exactly to any order. We have\\ntested the results of the perturbation theory to fourth and eight order against\\nan exact numerical solution of the corresponding Bogoliubov-de Gennes\\nequations. The perturbation theory is found to describe the onset of\\nsuperconductivity well close to the transition point $H_{c2}$. Contrary to\\nearlier calculations by other authors we do not find that the perturbative\\nscheme predicts any maximum of the dHvA-oscillations below $H_{c2}$. Instead we\\nobtain a substantial damping of the magnetic oscillations in the mixed state as\\ncompared to the normal state. We have examined the effect of an oscillatory\\nchemical potential due to particle conservation and the effect of a finite\\nZeeman splitting. Furthermore we have investigated the recently debated issue\\nof a possibility of a sign change of the fundamental harmonic of the magnetic\\noscillations. Our theory is compared with experiment and we have found good\\nagreement.\\n\",\"versions\":[{\"version\":\"v1\",\"created\":\"Wed, 14 Aug 1996 16:35:44 GMT\"},{\"version\":\"v2\",\"created\":\"Mon, 19 Aug 1996 14:07:39 GMT\"},{\"version\":\"v3\",\"created\":\"Fri, 11 Apr 1997 22:08:12 GMT\"}],\"update_date\":\"2016-09-08\",\"authors_parsed\":[[\"Bruun\",\"G. M.\",\"\"],[\"Nicopoulos\",\"V. N.\",\"\"],[\"Johnson\",\"N. F.\",\"\"]]}\n",
      "\n",
      "{\"id\":\"supr-con/9608005\",\"submitter\":\"Robert B. Laughlin\",\"authors\":\"R. B. Laughlin (Stanford)\",\"title\":\"Evidence for Quasiparticle Decay in Photoemission from Underdoped\\n  Cuprates\",\"comments\":\"4 pages of ReVTeX, 3 eps figures\",\"journal-ref\":\"Phys. Rev. Lett. 79, 1726 (1997)\",\"doi\":\"10.1103/PhysRevLett.79.1726\",\"report-no\":\"p01jul96\",\"categories\":\"supr-con cond-mat.supr-con\",\"license\":null,\"abstract\":\"  I argue that the ``gap'' recently observed at the Brillouin zone face of\\ncuprate superconductors in photoemission by Marshall et al [Phys. Rev. Lett.\\n76, 4841 (1996)] and Ding et al [Nature 382, 54 (1996)] is evidence for the\\ndecay of the injected hole into a spinon-holon pair.\\n\",\"versions\":[{\"version\":\"v1\",\"created\":\"Thu, 15 Aug 1996 01:08:36 GMT\"},{\"version\":\"v2\",\"created\":\"Sun, 8 Feb 1998 19:42:41 GMT\"},{\"version\":\"v3\",\"created\":\"Tue, 17 Feb 1998 17:28:22 GMT\"}],\"update_date\":\"2009-10-30\",\"authors_parsed\":[[\"Laughlin\",\"R. B.\",\"\",\"Stanford\"]]}\n",
      "\n",
      "{\"id\":\"supr-con/9608006\",\"submitter\":\"Bozidar Mitrovic\",\"authors\":\"B. Mitrovic and M. Castle (Brock University, Canada)\",\"title\":\"Strong coupling theory of the interlayer tunneling model for high\\n  temperature superconductors\",\"comments\":\"23 pages, 7 Postscript figures, REVTeX 3.0 with epsf macros\",\"journal-ref\":null,\"doi\":\"10.1088/0953-8984/9/42/015\",\"report-no\":null,\"categories\":\"supr-con cond-mat.supr-con\",\"license\":null,\"abstract\":\"  The interlayer pair tunneling model of Anderson et al. is generalized to\\ninclude the strong coupling effects associated with in-plane interactions. The\\nequations for the superconducting transition temperature T_{c} are solved\\nnumerically for several models of electron-optical phonon coupling. The\\nnonmagnetic in-plane impurity scattering suppresses T_{c} in all cases\\nconsidered, and it is possible to obtain a fair agreement with experiments for\\na reasonable choice of parameters. For the anisotropic electron-phonon coupling\\nproposed by Song and Annett we find that the interlayer pair tunneling can\\nstabilize the d_{x^2-y^2}-wave superconducting state with a high T_{c}.\\nMoreover, in this case there is a possibility of an impurity induced crossover\\nfrom the d$_{x^2-y^2}$-wave state stabilized by the interlayer tunneling to the\\ns-wave state at a low impurity concentration. We also calculate the isotope\\neffect associated with the in-plane oxygen optic mode and its dependence on the\\nstrength of the interlayer pair tunneling. Small positive values of the isotope\\nexponent are obtained for strengths of pair tunneling that give high transition\\ntemperatures.\\n\",\"versions\":[{\"version\":\"v1\",\"created\":\"Thu, 15 Aug 1996 17:16:38 GMT\"}],\"update_date\":\"2009-10-30\",\"authors_parsed\":[[\"Mitrovic\",\"B.\",\"\",\"Brock University, Canada\"],[\"Castle\",\"M.\",\"\",\"Brock University, Canada\"]]}\n",
      "\n",
      "{\"id\":\"supr-con/9608007\",\"submitter\":null,\"authors\":\"Francesca Federici, Andrei A. Varlamov\",\"title\":\"The Fluctuation Induced Pseudogap in the Infrared Optical Conductivity\\n  of High Temperature Superconductors\",\"comments\":\"8 pages, 4 eps figures, Submitted to Phys. Rev. B\",\"journal-ref\":null,\"doi\":\"10.1103/PhysRevB.55.6070\",\"report-no\":null,\"categories\":\"supr-con cond-mat.supr-con\",\"license\":null,\"abstract\":\"  We study the effect of fluctuations on the {\\\\bf ac} conductivity of a layered\\nsuperconductor both for $c$-axis and $ab$-plane electromagnetic wave\\npolarizations. The fluctuation contributions of different physical nature and\\nsigns (paraconductivity, Maki-Thompson anomalous contribution, one-electron\\ndensity of states renormalization) are found to be suppressed by the external\\nfield at different characterisitic frequencies ($ \\\\omega_{\\\\rm AL}\\\\sim T-T_{\\\\rm\\nc}$, $\\\\omega_{\\\\rm MT} \\\\sim \\\\max\\\\{ T-T_{\\\\rm c}, \\\\tau_{\\\\varphi}^{-1}\\\\}$, $\\n\\\\omega_{\\\\rm DOS} \\\\sim \\\\min\\\\{T,\\\\tau ^{-1}\\\\}$ for the $2D$ case). As a result the\\nappearance of the nonmonotonic frequency dependence (pseudogap) in the infrared\\noptical conductivity of HTS film is predicted. The effect has to be especially\\npronounced in the case of the electromagnetic field polarization along\\n$c$-axis.\\n\",\"versions\":[{\"version\":\"v1\",\"created\":\"Fri, 23 Aug 1996 09:39:49 GMT\"},{\"version\":\"v2\",\"created\":\"Wed, 28 Aug 1996 11:54:46 GMT\"}],\"update_date\":\"2009-10-30\",\"authors_parsed\":[[\"Federici\",\"Francesca\",\"\"],[\"Varlamov\",\"Andrei A.\",\"\"]]}\n",
      "\n",
      "{\"id\":\"supr-con/9608008\",\"submitter\":\"Ruslan Prozorov\",\"authors\":\"R. Prozorov, M. Konczykowski, B. Schmidt, Y. Yeshurun, A. Shaulov, C.\\n  Villard, G. Koren\",\"title\":\"On the origin of the irreversibility line in thin YBaCuO7 films with and\\n  without columnar defects\",\"comments\":\"19 pages, LaTex, 6 PostScript figures; Author's Homepage:\\n  http://www.biu.ac.il:80/~prozorr\",\"journal-ref\":null,\"doi\":\"10.1103/PhysRevB.54.15530\",\"report-no\":null,\"categories\":\"supr-con cond-mat.supr-con\",\"license\":null,\"abstract\":\"  We report on measurements of the angular dependence of the irreversibility\\ntemperature $T_{irr}(\\\\theta) $ in $YBa_2Cu_3O_{7-\\\\delta }$ thin films, defined\\nby the onset of a third harmonic signal and measured by a miniature Hall probe.\\nFrom the functional form of $T_{irr}(\\\\theta)$ we conclude that the origin of\\nthe irreversibility line in unirradiated films is a dynamic crossover from an\\nunpinned to a pinned vortex liquid. In irradiated films the irreversibility\\ntemperature is determined by the trapping angle.\\n\",\"versions\":[{\"version\":\"v1\",\"created\":\"Mon, 26 Aug 1996 15:08:35 GMT\"}],\"update_date\":\"2009-10-30\",\"authors_parsed\":[[\"Prozorov\",\"R.\",\"\"],[\"Konczykowski\",\"M.\",\"\"],[\"Schmidt\",\"B.\",\"\"],[\"Yeshurun\",\"Y.\",\"\"],[\"Shaulov\",\"A.\",\"\"],[\"Villard\",\"C.\",\"\"],[\"Koren\",\"G.\",\"\"]]}\n",
      "\n",
      "{\"id\":\"supr-con/9609001\",\"submitter\":\"Durga P. Choudhury\",\"authors\":\"Durga P. Choudhury, Balam A. Willemsen, John S. Derov and S. Sridhar\\n  (Physics Department, Northeastern University and Rome Laboratory, Hanscom\\n  AFB.)\",\"title\":\"Nonlinear Response of HTSC Thin Film Microwave Resonators in an Applied\\n  DC Magnetic Field\",\"comments\":\"4 pages, LaTeX type, Uses IEEE style files, 600 dpi PostScript file\\n  with color figures available at http://sagar.physics.neu.edu/preprints.html\\n  Submitted to IEEE Transactions on Applied Superconductivity\",\"journal-ref\":null,\"doi\":\"10.1109/77.620744\",\"report-no\":null,\"categories\":\"supr-con cond-mat.supr-con\",\"license\":null,\"abstract\":\"  The non-linear microwave surface impedance of patterned YBCO thin films, was\\nmeasured using a suspended line resonator in the presence of a perpendicular DC\\nmagnetic field of magnitude comparable to that of the microwave field.\\nSignature of the virgin state was found to be absent even for relatively low\\nmicrowave power levels. The microwave loss was initially found to decrease for\\nsmall applied DC field before increasing again. Also, non-linearities inherent\\nin the sample were found to be substantially suppressed at low powers at these\\napplied fields. These two features together can lead to significant improvement\\nin device performance.\\n\",\"versions\":[{\"version\":\"v1\",\"created\":\"Sat, 31 Aug 1996 17:34:38 GMT\"}],\"update_date\":\"2016-11-18\",\"authors_parsed\":[[\"Choudhury\",\"Durga P.\",\"\",\"Physics Department, Northeastern University and Rome Laboratory, Hanscom\\n  AFB.\"],[\"Willemsen\",\"Balam A.\",\"\",\"Physics Department, Northeastern University and Rome Laboratory, Hanscom\\n  AFB.\"],[\"Derov\",\"John S.\",\"\",\"Physics Department, Northeastern University and Rome Laboratory, Hanscom\\n  AFB.\"],[\"Sridhar\",\"S.\",\"\",\"Physics Department, Northeastern University and Rome Laboratory, Hanscom\\n  AFB.\"]]}\n",
      "\n",
      "{\"id\":\"supr-con/9609002\",\"submitter\":\"Durga P. Choudhury\",\"authors\":\"Balam A. Willemsen, J. S. Derov and S.Sridhar (Physics Department,\\n  Northeastern University and Rome Laboratory, Hanscom AFB)\",\"title\":\"Critical State Flux Penetration and Linear Microwave Vortex Response in\\n  YBa_2Cu_3O_{7-x} Films\",\"comments\":\"20 pages, LaTeX type, Uses REVTeX style files, Submitted to Physical\\n  Review B, 600 dpi PostScript file with high resolution figures available at\\n  http://sagar.physics.neu.edu/preprints.html\",\"journal-ref\":null,\"doi\":\"10.1103/PhysRevB.56.11989\",\"report-no\":null,\"categories\":\"supr-con cond-mat.supr-con\",\"license\":null,\"abstract\":\"  The vortex contribution to the dc field (H) dependent microwave surface\\nimpedance Z_s = R_s+iX_s of YBa_2Cu_3O_{7-x} thin films was measured using\\nsuspended patterned resonators. Z_s(H) is shown to be a direct measure of the\\nflux density B(H) enabling a very precise test of models of flux penetration.\\nThree regimes of field-dependent behavior were observed: (1) Initial flux\\npenetration occurs on very low field scales H_i(4.2K) 100Oe, (2) At moderate\\nfields the flux penetration into the virgin state is in excellent agreement\\nwith calculations based upon the field-induced Bean critical state for thin\\nfilm geometry, parametrized by a field scale H_s(4.2K) J_c*d 0.5T, (3) for very\\nhigh fields H >>H_s, the flux density is uniform and the measurements enable\\ndirect determination of vortex parameters such as pinning force constants\\n\\\\alpha_p and vortex viscosity \\\\eta. However hysteresis loops are in\\ndisagreement with the thin film Bean model, and instead are governed by the low\\nfield scale H_i, rather than by H_s. Geometric barriers are insufficient to\\naccount for the observed results.\\n\",\"versions\":[{\"version\":\"v1\",\"created\":\"Tue, 3 Sep 1996 14:08:26 GMT\"}],\"update_date\":\"2009-10-30\",\"authors_parsed\":[[\"Willemsen\",\"Balam A.\",\"\",\"Physics Department,\\n  Northeastern University and Rome Laboratory, Hanscom AFB\"],[\"Derov\",\"J. S.\",\"\",\"Physics Department,\\n  Northeastern University and Rome Laboratory, Hanscom AFB\"],[\"Sridhar\",\"S.\",\"\",\"Physics Department,\\n  Northeastern University and Rome Laboratory, Hanscom AFB\"]]}\n",
      "\n",
      "{\"id\":\"supr-con/9609003\",\"submitter\":\"Hasegawa Yasumasa\",\"authors\":\"Yasumasa Hasegawa (Himeji Institute of Technology)\",\"title\":\"Density of States and NMR Relaxation Rate in Anisotropic\\n  Superconductivity with Intersecting Line Nodes\",\"comments\":\"7 pages, 4 PostScript Figures, LaTeX, to appear in J. Phys. Soc. Jpn\",\"journal-ref\":null,\"doi\":\"10.1143/JPSJ.65.3131\",\"report-no\":null,\"categories\":\"supr-con cond-mat.supr-con\",\"license\":null,\"abstract\":\"  We show that the density of states in an anisotropic superconductor with\\nintersecting line nodes in the gap function is proportional to $E log (\\\\alpha\\n\\\\Delta_0 /E)$ for $|E| << \\\\Delta_0$, where $\\\\Delta_0$ is the maximum value of\\nthe gap function and $\\\\alpha$ is constant, while it is proportional to $E$ if\\nthe line nodes do not intersect. As a result, a logarithmic correction appears\\nin the temperature dependence of the NMR relaxation rate and the specific heat,\\nwhich can be observed experimentally. By comparing with those for the heavy\\nfermion superconductors, we can obtain information about the symmetry of the\\ngap function.\\n\",\"versions\":[{\"version\":\"v1\",\"created\":\"Wed, 18 Sep 1996 07:57:29 GMT\"}],\"update_date\":\"2009-10-30\",\"authors_parsed\":[[\"Hasegawa\",\"Yasumasa\",\"\",\"Himeji Institute of Technology\"]]}\n",
      "\n",
      "{\"id\":\"supr-con/9609004\",\"submitter\":\"Masanori Ichioka\",\"authors\":\"Naoki Enomoto, Masanori Ichioka and Kazushige Machida (Okayama Univ.)\",\"title\":\"Ginzburg Landau theory for d-wave pairing and fourfold symmetric vortex\\n  core structure\",\"comments\":\"12 pages including 8 eps figs, LaTeX with jpsj.sty & epsfig\",\"journal-ref\":\"J. Phys. Soc. Jpn. 66, 204 (1997).\",\"doi\":\"10.1143/JPSJ.66.204\",\"report-no\":null,\"categories\":\"supr-con cond-mat.supr-con\",\"license\":null,\"abstract\":\"  The Ginzburg Landau theory for d_{x^2-y^2}-wave superconductors is\\nconstructed, by starting from the Gor'kov equation with including correction\\nterms up to the next order of ln(T_c/T). Some of the non-local correction terms\\nare found to break the cylindrical symmetry and lead to the fourfold symmetric\\ncore structure, reflecting the internal degree of freedom in the pair\\npotential. Using this extended Ginzburg Landau theory, we investigate the\\nfourfold symmetric structure of the pair potential, current and magnetic field\\naround an isolated single vortex, and clarify concretely how the vortex core\\nstructure deviates from the cylindrical symmetry in the d_{x^2-y^2}-wave\\nsuperconductors.\\n\",\"versions\":[{\"version\":\"v1\",\"created\":\"Wed, 25 Sep 1996 14:17:09 GMT\"}],\"update_date\":\"2009-10-30\",\"authors_parsed\":[[\"Enomoto\",\"Naoki\",\"\",\"Okayama Univ.\"],[\"Ichioka\",\"Masanori\",\"\",\"Okayama Univ.\"],[\"Machida\",\"Kazushige\",\"\",\"Okayama Univ.\"]]}\n",
      "\n"
     ]
    },
    {
     "output_type": "execute_result",
     "data": {
      "text/plain": [
       "          id           submitter  \\\n",
       "0  0704.0001      Pavel Nadolsky   \n",
       "1  0704.0002        Louis Theran   \n",
       "2  0704.0003         Hongjun Pan   \n",
       "3  0704.0004        David Callan   \n",
       "4  0704.0005  Alberto Torchinsky   \n",
       "\n",
       "                                             authors  \\\n",
       "0  C. Bal\\'azs, E. L. Berger, P. M. Nadolsky, C.-...   \n",
       "1                    Ileana Streinu and Louis Theran   \n",
       "2                                        Hongjun Pan   \n",
       "3                                       David Callan   \n",
       "4           Wael Abu-Shammala and Alberto Torchinsky   \n",
       "\n",
       "                                               title  \\\n",
       "0  Calculation of prompt diphoton production cros...   \n",
       "1           Sparsity-certifying Graph Decompositions   \n",
       "2  The evolution of the Earth-Moon system based o...   \n",
       "3  A determinant of Stirling cycle numbers counts...   \n",
       "4  From dyadic $\\Lambda_{\\alpha}$ to $\\Lambda_{\\a...   \n",
       "\n",
       "                                  comments  \\\n",
       "0  37 pages, 15 figures; published version   \n",
       "1    To appear in Graphs and Combinatorics   \n",
       "2                      23 pages, 3 figures   \n",
       "3                                 11 pages   \n",
       "4                                     None   \n",
       "\n",
       "                                 journal-ref                         doi  \\\n",
       "0                   Phys.Rev.D76:013009,2007  10.1103/PhysRevD.76.013009   \n",
       "1                                       None                        None   \n",
       "2                                       None                        None   \n",
       "3                                       None                        None   \n",
       "4  Illinois J. Math. 52 (2008) no.2, 681-689                        None   \n",
       "\n",
       "          report-no       categories  \\\n",
       "0  ANL-HEP-PR-07-12           hep-ph   \n",
       "1              None    math.CO cs.CG   \n",
       "2              None   physics.gen-ph   \n",
       "3              None          math.CO   \n",
       "4              None  math.CA math.FA   \n",
       "\n",
       "                                             license  \\\n",
       "0                                               None   \n",
       "1  http://arxiv.org/licenses/nonexclusive-distrib...   \n",
       "2                                               None   \n",
       "3                                               None   \n",
       "4                                               None   \n",
       "\n",
       "                                            abstract  \\\n",
       "0    A fully differential calculation in perturba...   \n",
       "1    We describe a new algorithm, the $(k,\\ell)$-...   \n",
       "2    The evolution of Earth-Moon system is descri...   \n",
       "3    We show that a determinant of Stirling cycle...   \n",
       "4    In this paper we show how to compute the $\\L...   \n",
       "\n",
       "                                            versions update_date  \\\n",
       "0  [{'version': 'v1', 'created': 'Mon, 2 Apr 2007...  2008-11-26   \n",
       "1  [{'version': 'v1', 'created': 'Sat, 31 Mar 200...  2008-12-13   \n",
       "2  [{'version': 'v1', 'created': 'Sun, 1 Apr 2007...  2008-01-13   \n",
       "3  [{'version': 'v1', 'created': 'Sat, 31 Mar 200...  2007-05-23   \n",
       "4  [{'version': 'v1', 'created': 'Mon, 2 Apr 2007...  2013-10-15   \n",
       "\n",
       "                                      authors_parsed  \n",
       "0  [[Balázs, C., ], [Berger, E. L., ], [Nadolsky,...  \n",
       "1           [[Streinu, Ileana, ], [Theran, Louis, ]]  \n",
       "2                                 [[Pan, Hongjun, ]]  \n",
       "3                                [[Callan, David, ]]  \n",
       "4  [[Abu-Shammala, Wael, ], [Torchinsky, Alberto, ]]  "
      ],
      "text/html": "<div>\n<style scoped>\n    .dataframe tbody tr th:only-of-type {\n        vertical-align: middle;\n    }\n\n    .dataframe tbody tr th {\n        vertical-align: top;\n    }\n\n    .dataframe thead th {\n        text-align: right;\n    }\n</style>\n<table border=\"1\" class=\"dataframe\">\n  <thead>\n    <tr style=\"text-align: right;\">\n      <th></th>\n      <th>id</th>\n      <th>submitter</th>\n      <th>authors</th>\n      <th>title</th>\n      <th>comments</th>\n      <th>journal-ref</th>\n      <th>doi</th>\n      <th>report-no</th>\n      <th>categories</th>\n      <th>license</th>\n      <th>abstract</th>\n      <th>versions</th>\n      <th>update_date</th>\n      <th>authors_parsed</th>\n    </tr>\n  </thead>\n  <tbody>\n    <tr>\n      <th>0</th>\n      <td>0704.0001</td>\n      <td>Pavel Nadolsky</td>\n      <td>C. Bal\\'azs, E. L. Berger, P. M. Nadolsky, C.-...</td>\n      <td>Calculation of prompt diphoton production cros...</td>\n      <td>37 pages, 15 figures; published version</td>\n      <td>Phys.Rev.D76:013009,2007</td>\n      <td>10.1103/PhysRevD.76.013009</td>\n      <td>ANL-HEP-PR-07-12</td>\n      <td>hep-ph</td>\n      <td>None</td>\n      <td>A fully differential calculation in perturba...</td>\n      <td>[{'version': 'v1', 'created': 'Mon, 2 Apr 2007...</td>\n      <td>2008-11-26</td>\n      <td>[[Balázs, C., ], [Berger, E. L., ], [Nadolsky,...</td>\n    </tr>\n    <tr>\n      <th>1</th>\n      <td>0704.0002</td>\n      <td>Louis Theran</td>\n      <td>Ileana Streinu and Louis Theran</td>\n      <td>Sparsity-certifying Graph Decompositions</td>\n      <td>To appear in Graphs and Combinatorics</td>\n      <td>None</td>\n      <td>None</td>\n      <td>None</td>\n      <td>math.CO cs.CG</td>\n      <td>http://arxiv.org/licenses/nonexclusive-distrib...</td>\n      <td>We describe a new algorithm, the $(k,\\ell)$-...</td>\n      <td>[{'version': 'v1', 'created': 'Sat, 31 Mar 200...</td>\n      <td>2008-12-13</td>\n      <td>[[Streinu, Ileana, ], [Theran, Louis, ]]</td>\n    </tr>\n    <tr>\n      <th>2</th>\n      <td>0704.0003</td>\n      <td>Hongjun Pan</td>\n      <td>Hongjun Pan</td>\n      <td>The evolution of the Earth-Moon system based o...</td>\n      <td>23 pages, 3 figures</td>\n      <td>None</td>\n      <td>None</td>\n      <td>None</td>\n      <td>physics.gen-ph</td>\n      <td>None</td>\n      <td>The evolution of Earth-Moon system is descri...</td>\n      <td>[{'version': 'v1', 'created': 'Sun, 1 Apr 2007...</td>\n      <td>2008-01-13</td>\n      <td>[[Pan, Hongjun, ]]</td>\n    </tr>\n    <tr>\n      <th>3</th>\n      <td>0704.0004</td>\n      <td>David Callan</td>\n      <td>David Callan</td>\n      <td>A determinant of Stirling cycle numbers counts...</td>\n      <td>11 pages</td>\n      <td>None</td>\n      <td>None</td>\n      <td>None</td>\n      <td>math.CO</td>\n      <td>None</td>\n      <td>We show that a determinant of Stirling cycle...</td>\n      <td>[{'version': 'v1', 'created': 'Sat, 31 Mar 200...</td>\n      <td>2007-05-23</td>\n      <td>[[Callan, David, ]]</td>\n    </tr>\n    <tr>\n      <th>4</th>\n      <td>0704.0005</td>\n      <td>Alberto Torchinsky</td>\n      <td>Wael Abu-Shammala and Alberto Torchinsky</td>\n      <td>From dyadic $\\Lambda_{\\alpha}$ to $\\Lambda_{\\a...</td>\n      <td>None</td>\n      <td>Illinois J. Math. 52 (2008) no.2, 681-689</td>\n      <td>None</td>\n      <td>None</td>\n      <td>math.CA math.FA</td>\n      <td>None</td>\n      <td>In this paper we show how to compute the $\\L...</td>\n      <td>[{'version': 'v1', 'created': 'Mon, 2 Apr 2007...</td>\n      <td>2013-10-15</td>\n      <td>[[Abu-Shammala, Wael, ], [Torchinsky, Alberto, ]]</td>\n    </tr>\n  </tbody>\n</table>\n</div>"
     },
     "metadata": {},
     "execution_count": 2
    }
   ],
   "source": [
    "# 读取并解析json文件\n",
    "matedata = []\n",
    "i = 0\n",
    "with open('.\\dataset\\\\arxiv-metadata-oai-snapshot.json', 'r') as f:\n",
    "    for line in f:\n",
    "        print(line)\n",
    "        matedata.append(json.loads(line))\n",
    "\n",
    "# 转成数据表\n",
    "paperData = pd.DataFrame(matedata)\n",
    "paperData.head()"
   ]
  },
  {
   "cell_type": "code",
   "execution_count": 4,
   "metadata": {},
   "outputs": [
    {
     "output_type": "stream",
     "name": "stdout",
     "text": [
      "<class 'pandas.core.frame.DataFrame'>\nRangeIndex: 1796911 entries, 0 to 1796910\nData columns (total 14 columns):\n #   Column          Dtype \n---  ------          ----- \n 0   id              object\n 1   submitter       object\n 2   authors         object\n 3   title           object\n 4   comments        object\n 5   journal-ref     object\n 6   doi             object\n 7   report-no       object\n 8   categories      object\n 9   license         object\n 10  abstract        object\n 11  versions        object\n 12  update_date     object\n 13  authors_parsed  object\ndtypes: object(14)\nmemory usage: 191.9+ MB\n"
     ]
    }
   ],
   "source": [
    "paperData.info()"
   ]
  },
  {
   "cell_type": "code",
   "execution_count": null,
   "metadata": {},
   "outputs": [],
   "source": [
    "# 只保留元数据的时间和类别列 ==> dataNoDet\n",
    "labelsDel = paperData.columns[1:8].append(paperData.columns[9:12]).append(paperData.columns[13:14])\n",
    "dataNoDet = paperData.drop(labels=labelsDel, axis=1)\n",
    "\n",
    "# dataNoDet增加年、月列\n",
    "dataNoDet[\"year\"] = pd.to_datetime(dataNoDet[\"update_date\"]).dt.year #将update_date从例如2019-02-20的str变为datetime格式，并提取处year\n",
    "dataNoDet[\"month\"] = pd.to_datetime(dataNoDet[\"update_date\"]).dt.month\n",
    "dataNoDet.reset_index(drop=True, inplace=True)\n",
    "\n",
    "dataNoDet.head()"
   ]
  },
  {
   "cell_type": "code",
   "execution_count": null,
   "metadata": {},
   "outputs": [],
   "source": [
    "dataNoDet.to_csv(\"./dataset/dataNoDet.csv\")"
   ]
  },
  {
   "cell_type": "code",
   "execution_count": null,
   "metadata": {},
   "outputs": [],
   "source": [
    "# 只保留近3年的元数据 ==> dataNea\n",
    "paperData[\"year\"] = pd.to_datetime(paperData[\"update_date\"]).dt.year #将update_date从例如2019-02-20的str变为datetime格式，并提取处year\n",
    "# del data[\"update_date\"] #删除 update_date特征，其使命已完成\n",
    "dataNear = paperData[paperData[\"year\"] >= 2018] #找出 year 中2018年以后的数据，并将其他数据删除\n",
    "# data.groupby(['categories','year']) #以 categories 进行排序，如果同一个categories 相同则使用 year 特征进行排序\n",
    "dataNear.reset_index(drop=True, inplace=True) #重新编号"
   ]
  },
  {
   "cell_type": "code",
   "execution_count": null,
   "metadata": {},
   "outputs": [],
   "source": [
    "dataNear.to_csv(\"./dataset/dataNaer.csv\")"
   ]
  }
 ]
}